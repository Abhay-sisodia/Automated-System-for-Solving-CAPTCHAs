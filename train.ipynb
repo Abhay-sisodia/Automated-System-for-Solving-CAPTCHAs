{
  "cells": [
    {
      "attachments": {},
      "cell_type": "markdown",
      "metadata": {
        "id": "XZnXeAB1yvuP"
      },
      "source": [
        "# Automated System for Solving CAPTCHAs\n"
      ]
    },
    {
      "attachments": {},
      "cell_type": "markdown",
      "metadata": {
        "id": "6Jbogx_zzFR7"
      },
      "source": [
        "## Steps involved\n",
        "1. **Retrieval** : Retrieve images and their corresponding labels, and store them in a list for further processing.\n",
        "\n",
        "2. **Image Processing**: Apply advanced image processing techniques to extract maximum information from the images, enhancing their quality and optimizing them for further analysis.\n",
        "\n",
        "3. **Efficient Segmentation**: Employ efficient algorithms to segment each image into three distinct parts, ensuring accurate separation of the three letters present in each image. Store the segmented parts in a list for subsequent analysis.\n",
        "\n",
        "4. **Label Mapping**: Create a comprehensive mapping that associates each label with a unique number ranging from 0 to 23. This mapping will facilitate further analysis and model training.\n",
        "\n",
        "5. **Model Training**: Utilize state-of-the-art machine learning algorithms, including Support Vector Machines (SVM), Logistic Regression, Decision Trees, and Random Forests, to train multiple models. These models will learn from the labeled image data and acquire the ability to classify new, unseen images accurately.\n",
        "\n",
        "6. **Model Testing**: Evaluate the performance of the trained models by testing them on a separate dataset. Assess their accuracy, precision, recall, and other relevant metrics to determine the effectiveness of each model in accurately identifying and classifying the letters in the images.\n"
      ]
    },
    {
      "attachments": {},
      "cell_type": "markdown",
      "metadata": {
        "id": "B0qZediW2Bt3"
      },
      "source": [
        "## Retrieval of images and labels"
      ]
    },
    {
      "cell_type": "code",
      "execution_count": null,
      "metadata": {
        "colab": {
          "base_uri": "https://localhost:8080/"
        },
        "id": "8ibexNcm-Oit",
        "outputId": "c5e244ff-7c39-4e1d-db9e-4d96b7354268"
      },
      "outputs": [
        {
          "name": "stdout",
          "output_type": "stream",
          "text": [
            "Drive already mounted at /content/drive; to attempt to forcibly remount, call drive.mount(\"/content/drive\", force_remount=True).\n"
          ]
        }
      ],
      "source": [
        "from google.colab import drive\n",
        "drive.mount('/content/drive')"
      ]
    },
    {
      "cell_type": "code",
      "execution_count": null,
      "metadata": {
        "id": "51Lpi7LxaglN"
      },
      "outputs": [],
      "source": [
        "import os"
      ]
    },
    {
      "cell_type": "code",
      "execution_count": null,
      "metadata": {
        "id": "Z7g6L1NbSKSM"
      },
      "outputs": [],
      "source": [
        "path = '/content/drive/MyDrive/CS771ML/train'\n",
        "imageList = os.listdir(path)\n",
        "imageList.remove(\"labels.txt\")\n",
        "with open(\"/content/drive/MyDrive/CS771ML/train/labels.txt\", 'r') as file:\n",
        "  Labels = file.readlines()\n",
        "Labels = [line.rstrip('\\n') for line in Labels]\n",
        "\n",
        "Xtrain = []\n",
        "ytrain = []\n",
        "\n",
        "Xtest = []\n",
        "ytest = []\n",
        "\n",
        "trainRatio = 1\n",
        "\n",
        "count = len(imageList)*trainRatio\n",
        "i = 0 \n",
        "for imageFile in imageList:\n",
        "  if(i<count):\n",
        "    #  add to train list\n",
        "    Xtrain.append(imageFile)\n",
        "    labelIndex = int(imageFile.split(\".\")[0])\n",
        "    ytrain.append(Labels[labelIndex])\n",
        "  else:\n",
        "    Xtest.append(imageFile)\n",
        "    labelIndex = int(imageFile.split(\".\")[0])\n",
        "    ytest.append(Labels[labelIndex])\n",
        "  i += 1"
      ]
    },
    {
      "cell_type": "code",
      "execution_count": null,
      "metadata": {
        "colab": {
          "base_uri": "https://localhost:8080/"
        },
        "id": "Tm-rAqOSlUKB",
        "outputId": "9560053f-da38-4481-8acb-be16f0d73178"
      },
      "outputs": [
        {
          "data": {
            "text/plain": [
              "['1023.png',\n",
              " '1005.png',\n",
              " '1019.png',\n",
              " '1018.png',\n",
              " '1016.png',\n",
              " '1006.png',\n",
              " '1024.png',\n",
              " '1000.png',\n",
              " '1013.png',\n",
              " '1020.png']"
            ]
          },
          "execution_count": 7,
          "metadata": {},
          "output_type": "execute_result"
        }
      ],
      "source": [
        "Xtrain[:10]"
      ]
    },
    {
      "cell_type": "code",
      "execution_count": null,
      "metadata": {
        "colab": {
          "base_uri": "https://localhost:8080/"
        },
        "id": "3lFTqQ7mmPPy",
        "outputId": "86c7da71-d38f-4e61-8092-5595dffc2d83"
      },
      "outputs": [
        {
          "data": {
            "text/plain": [
              "['ZETA,MU,CHI',\n",
              " 'MU,ALPHA,PSI',\n",
              " 'GAMMA,CHI,IOTA',\n",
              " 'TAU,PSI,UPSILON',\n",
              " 'PI,EPSILON,ALPHA',\n",
              " 'OMICRON,OMEGA,DELTA',\n",
              " 'ZETA,CHI,XI',\n",
              " 'UPSILON,PHI,THETA',\n",
              " 'IOTA,GAMMA,TAU',\n",
              " 'KAPPA,IOTA,OMEGA']"
            ]
          },
          "execution_count": 8,
          "metadata": {},
          "output_type": "execute_result"
        }
      ],
      "source": [
        "ytrain[:10]"
      ]
    },
    {
      "attachments": {},
      "cell_type": "markdown",
      "metadata": {
        "id": "C5BhnlVK2KOE"
      },
      "source": [
        "## Label Mapping"
      ]
    },
    {
      "cell_type": "code",
      "execution_count": null,
      "metadata": {
        "id": "Vg2hf-iEphK6"
      },
      "outputs": [],
      "source": [
        "labelTonum = {'ALPHA' : 0,\n",
        " 'BETA' : 1,\n",
        " 'CHI' : 2,\n",
        " 'DELTA' : 3,\n",
        " 'EPSILON': 4,\n",
        " 'ETA' : 5,\n",
        " 'GAMMA' : 6,\n",
        " 'IOTA' : 7,\n",
        " 'KAPPA' : 8,\n",
        " 'LAMDA': 9,\n",
        " 'MU' :10,\n",
        " 'NU' : 11,\n",
        " 'OMEGA' : 12,\n",
        " 'OMICRON':13,\n",
        " 'PHI' : 14,\n",
        " 'PI' : 15,\n",
        " 'PSI' : 16,\n",
        " 'RHO' : 17,\n",
        " 'SIGMA' : 18,\n",
        " 'TAU' : 19,\n",
        " 'THETA' : 20,\n",
        " 'UPSILON' : 21,\n",
        " 'XI' : 22,\n",
        " 'ZETA': 23}"
      ]
    },
    {
      "cell_type": "code",
      "execution_count": null,
      "metadata": {
        "id": "l5BQ2R38p-yN"
      },
      "outputs": [],
      "source": [
        "numTolabel = {0 : 'ALPHA',\n",
        " 1: 'BETA',\n",
        " 2: 'CHI',\n",
        " 3: 'DELTA',\n",
        " 4: 'EPSILON',\n",
        " 5: 'ETA',\n",
        " 6: 'GAMMA',\n",
        " 7: 'IOTA',\n",
        " 8: 'KAPPA',\n",
        " 9: 'LAMDA',\n",
        " 10: 'MU',\n",
        " 11: 'NU',\n",
        " 12: 'OMEGA',\n",
        " 13: 'OMICRON',\n",
        " 14: 'PHI',\n",
        " 15: 'PI',\n",
        " 16: 'PSI',\n",
        " 17: 'RHO',\n",
        " 18: 'SIGMA',\n",
        " 19: 'TAU',\n",
        " 20: 'THETA',\n",
        " 21: 'UPSILON',\n",
        " 22: 'XI',\n",
        " 23: 'ZETA'}"
      ]
    },
    {
      "attachments": {},
      "cell_type": "markdown",
      "metadata": {
        "id": "iHa6fnuc2P-G"
      },
      "source": [
        "## Image processing and segmentation"
      ]
    },
    {
      "cell_type": "code",
      "execution_count": null,
      "metadata": {
        "id": "Ok4NR6FUafES"
      },
      "outputs": [],
      "source": [
        "import cv2\n",
        "import numpy as np\n",
        "from google.colab.patches import cv2_imshow\n",
        "from tqdm import tqdm"
      ]
    },
    {
      "cell_type": "code",
      "execution_count": null,
      "metadata": {
        "colab": {
          "base_uri": "https://localhost:8080/"
        },
        "id": "SyL_aQVGlocN",
        "outputId": "8df0989f-40b1-41c8-c415-cf837e6157f9"
      },
      "outputs": [
        {
          "data": {
            "text/plain": [
              "2000"
            ]
          },
          "execution_count": 11,
          "metadata": {},
          "output_type": "execute_result"
        }
      ],
      "source": [
        "len(Xtrain)"
      ]
    },
    {
      "cell_type": "code",
      "execution_count": null,
      "metadata": {
        "colab": {
          "base_uri": "https://localhost:8080/"
        },
        "id": "apbpl8D0BF3T",
        "outputId": "ca7aca83-f4e3-40f0-a23e-ec3a1f15777e"
      },
      "outputs": [
        {
          "name": "stderr",
          "output_type": "stream",
          "text": [
            " 23%|██▎       | 454/2000 [00:05<00:18, 82.77it/s]"
          ]
        }
      ],
      "source": [
        "def ImgProcessing_Seg():\n",
        "  for imageIndex in tqdm(range(len(Xtrain))):\n",
        "    img = cv2.imread(os.path.join(path, Xtrain[imageIndex]))\n",
        "    # get shape of the image\n",
        "    y_dim, x_dim = img.shape[:2]\n",
        "\n",
        "    # Find corner pixel with max freq     \n",
        "    corners = np.array([img[0,0] ,img[0,-1] ,img[-1,0] ,img[-1,-1] ])\n",
        "    unique, counts = np.unique(corners, axis = 0,  return_counts = True)\n",
        "    backgnd = unique[np.argmax(counts)]\n",
        "\n",
        "    # change the background to white\n",
        "    background = np.where((img[:,:,0]==backgnd[0]) & (img[:,:,1]==backgnd[1]) & (img[:,:,2]==backgnd[2]))\n",
        "    img[background] = np.array([255,255,255], dtype = np.uint8)\n",
        "\n",
        "    # Now Dilate the image \n",
        "    kernel = np.ones((5, 5), np.uint8)\n",
        "    img_dilation = cv2.dilate(img, kernel, iterations=1)\n",
        "\n",
        "    # convert image to grayscale\n",
        "    gray = cv2.cvtColor(img_dilation, cv2.COLOR_BGR2GRAY)\n",
        "\n",
        "    # Segment image into 3 character\n",
        "    start = True\n",
        "    countPrev = 0\n",
        "    mylist = []\n",
        "    for i in range(500):\n",
        "      vpp = np.sum(gray[:,i] < 250)\n",
        "      if vpp > 12:\n",
        "        if start:\n",
        "          # print(i)\n",
        "          temp = i\n",
        "          start = False\n",
        "        countPrev += 1\n",
        "      if vpp == 0:\n",
        "        if start == False:\n",
        "          # print(i)\n",
        "          if countPrev > 30:\n",
        "            sizediff = i-temp\n",
        "            if (sizediff < 150):\n",
        "              x_temp = temp - int((150 - sizediff)/2)\n",
        "              x = x_temp if x_temp > 0 else 0\n",
        "              x = x if x + 150 < 500 else 350\n",
        "              y = 0\n",
        "            else:\n",
        "              x = i\n",
        "              y = 0\n",
        "            mylist.append((x , y, 150, 150))\n",
        "            countPrev = 0\n",
        "          start = True    \n",
        "    listSize = len(mylist)\n",
        "    if listSize != 3 :\n",
        "      mylist = [(15 , 0 , 150, 150),(175, 0, 150, 150),(335, 0, 150, 150)]\n",
        "\n",
        "    # Got the segment of the image\n",
        "    labelList = ytrain[imageIndex].split(\",\")\n",
        "    numberLabel = []\n",
        "    for labb in labelList:\n",
        "      numberLabel.append(labelTonum[labb])\n",
        "    for boxIndex in range(3):\n",
        "      x, y = mylist[boxIndex][0], mylist[boxIndex][1]\n",
        "      finalImage = gray[y:y + 150, x:x + 150]\n",
        "      finalImage = cv2.resize(finalImage, (30, 30))\n",
        "      finalImage = finalImage.flatten()\n",
        "      dfX.append(finalImage)\n",
        "      # get the labels\n",
        "      dfy.append(numberLabel[boxIndex])\n",
        "  return \"success\"\n",
        "\n",
        "dfX = []\n",
        "dfy = []\n",
        "print(ImgProcessing_Seg())"
      ]
    },
    {
      "cell_type": "code",
      "execution_count": null,
      "metadata": {
        "colab": {
          "base_uri": "https://localhost:8080/"
        },
        "id": "B_SwYkgzSrWl",
        "outputId": "c78f715b-5c73-4367-e2b6-07e01c1ef50c"
      },
      "outputs": [
        {
          "data": {
            "text/plain": [
              "6000"
            ]
          },
          "execution_count": 16,
          "metadata": {},
          "output_type": "execute_result"
        }
      ],
      "source": [
        "len(dfy)"
      ]
    },
    {
      "cell_type": "code",
      "execution_count": null,
      "metadata": {
        "colab": {
          "base_uri": "https://localhost:8080/"
        },
        "id": "6fJZLNc7YjnD",
        "outputId": "f19b2206-a7ba-4981-8d3a-0dc65b0e26c6"
      },
      "outputs": [
        {
          "data": {
            "text/plain": [
              "6000"
            ]
          },
          "execution_count": 17,
          "metadata": {},
          "output_type": "execute_result"
        }
      ],
      "source": [
        "len(dfX)"
      ]
    },
    {
      "attachments": {},
      "cell_type": "markdown",
      "metadata": {
        "id": "hdfRfL9s278r"
      },
      "source": [
        "## Model Training"
      ]
    },
    {
      "cell_type": "code",
      "execution_count": null,
      "metadata": {
        "id": "CfHWFUrugETR"
      },
      "outputs": [],
      "source": [
        "import pickle\n",
        "import pandas as pd"
      ]
    },
    {
      "cell_type": "code",
      "execution_count": null,
      "metadata": {
        "colab": {
          "base_uri": "https://localhost:8080/"
        },
        "id": "4LcSz8tDdFi9",
        "outputId": "c4ae4563-c706-4f19-8ef1-f4bb490e1897"
      },
      "outputs": [
        {
          "name": "stdout",
          "output_type": "stream",
          "text": [
            "ACCURACY OF THE MODEL:  1.0\n"
          ]
        }
      ],
      "source": [
        "########## Random Forest ##########\n",
        "\n",
        "from sklearn.ensemble import RandomForestClassifier\n",
        "# creating a RF classifier\n",
        "clf = RandomForestClassifier(n_estimators = 30)\n",
        "clf.fit(dfX, dfy)\n",
        "y_pred = clf.predict(dfX)\n",
        "\n",
        "from sklearn import metrics\n",
        "print(\"ACCURACY OF THE MODEL: \", metrics.accuracy_score(dfy, y_pred))\n",
        "filename = 'modelrandomForest.sav'\n",
        "pickle.dump(clf, open(filename, 'wb'))"
      ]
    },
    {
      "cell_type": "code",
      "execution_count": null,
      "metadata": {
        "id": "oBVLWrnocOrS"
      },
      "outputs": [],
      "source": [
        "########## Logistic Regression ##########\n",
        "\n",
        "from sklearn.linear_model import LogisticRegression\n",
        "classifier = LogisticRegression(random_state = 0,max_iter=4000)\n",
        "classifier.fit(dfX,dfy)\n",
        "svm_predictions = classifier.predict(dfX)\n",
        "count = 0\n",
        "for i in range(len(svm_predictions)):\n",
        "    if svm_predictions[i] == dfy[i]:\n",
        "        count += 1\n",
        "print(\"ACCURACY OF THE MODEL: \", count/(i+1)*100)\n",
        "filename = 'modelLogReg.sav'\n",
        "pickle.dump(classifier, open(filename, 'wb'))"
      ]
    },
    {
      "cell_type": "code",
      "execution_count": null,
      "metadata": {
        "id": "DcEN40pnYjkq"
      },
      "outputs": [],
      "source": [
        "########## Support Vector Classifier ##########\n",
        "\n",
        "from sklearn.svm import SVC\n",
        "svm_model_linear = SVC(kernel = 'linear', C = 1,).fit(dfX,dfy)\n",
        "svm_predictions = svm_model_linear.predict(dfX)\n",
        "count = 0\n",
        "for i in range(len(svm_predictions)):\n",
        "    if svm_predictions[i] == dfy[i]:\n",
        "        count += 1\n",
        "print(\"ACCURACY OF THE MODEL: \",count/(i+1)*100)\n",
        "# filename = 'modelSVM.sav'\n",
        "# pickle.dump(svm_model_linear, open(filename, 'wb'))"
      ]
    },
    {
      "cell_type": "code",
      "execution_count": null,
      "metadata": {
        "id": "un0dnvQkdUVU"
      },
      "outputs": [],
      "source": [
        "loaded_model = pickle.load(open(filename, 'rb'))\n",
        "result = loaded_model.score(X_test, y_test)\n",
        "print(result)"
      ]
    },
    {
      "cell_type": "code",
      "execution_count": null,
      "metadata": {
        "colab": {
          "base_uri": "https://localhost:8080/",
          "height": 295
        },
        "id": "fjjo5HEOC9dV",
        "outputId": "0aba316b-c149-4b30-de80-7378065ef073"
      },
      "outputs": [
        {
          "data": {
            "image/png": "[encoded data removed]",
            "text/plain": [
              "<Figure size 432x288 with 1 Axes>"
            ]
          },
          "metadata": {
            "needs_background": "light"
          },
          "output_type": "display_data"
        }
      ],
      "source": [
        "# importing the required module\n",
        "import matplotlib.pyplot as plt\n",
        "\n",
        "# These data were collected using different values of C i.e. regularisation on the Train data.\n",
        "myC = [0.1, 0.5, 1, 2, 5]\n",
        "acc = [0.92,0.96,0.985,0.98,0.975]\n",
        "\n",
        "plt.plot(myC, acc)\n",
        "# naming the x axis\n",
        "plt.xlabel('Hyperparameter - c')\n",
        "# naming the y axis\n",
        "plt.ylabel('Accuracy')\n",
        "# giving a title to my graph\n",
        "plt.title('Hyperparameter vs Accuracy')\n",
        "# function to show the plot\n",
        "plt.show()"
      ]
    },
    {
      "attachments": {},
      "cell_type": "markdown",
      "metadata": {
        "id": "-a6QTCDRy61a"
      },
      "source": [
        "## Evaluating the model"
      ]
    },
    {
      "cell_type": "code",
      "execution_count": null,
      "metadata": {
        "colab": {
          "base_uri": "https://localhost:8080/"
        },
        "id": "QQwV3_sBZuzv",
        "outputId": "c4304117-d614-4653-bb96-e5540f5c1994"
      },
      "outputs": [
        {
          "name": "stderr",
          "output_type": "stream",
          "text": [
            "100%|██████████| 1000/1000 [00:45<00:00, 21.88it/s]"
          ]
        },
        {
          "name": "stdout",
          "output_type": "stream",
          "text": [
            "success\n"
          ]
        },
        {
          "name": "stderr",
          "output_type": "stream",
          "text": [
            "\n"
          ]
        }
      ],
      "source": [
        "def predictTest():\n",
        "  for imageIndex in tqdm(range(len(Xtest))):\n",
        "    img = cv2.imread(os.path.join(path, Xtest[imageIndex]))\n",
        "    # get shape of the image\n",
        "    y_dim, x_dim = img.shape[:2]\n",
        "    \n",
        "    # Find corner pixel with max freq     \n",
        "    corners = np.array([img[0,0] ,img[0,-1] ,img[-1,0] ,img[-1,-1] ])\n",
        "    unique, counts = np.unique(corners, axis = 0,  return_counts = True)\n",
        "    backgnd = unique[np.argmax(counts)]\n",
        "\n",
        "    # change the background to white\n",
        "    background = np.where((img[:,:,0]==backgnd[0]) & (img[:,:,1]==backgnd[1]) & (img[:,:,2]==backgnd[2]))\n",
        "    img[background] = np.array([255,255,255], dtype = np.uint8)\n",
        "\n",
        "    # Now Dilate the image \n",
        "    kernel = np.ones((5, 5), np.uint8)\n",
        "    img_dilation = cv2.dilate(img, kernel, iterations=1)\n",
        "\n",
        "    # convert image to grayscale\n",
        "    gray = cv2.cvtColor(img_dilation, cv2.COLOR_BGR2GRAY)\n",
        "\n",
        "    # Segment image into 3 characters \n",
        "    # Get the cordinates of the bounding box of each character\n",
        "    start = True\n",
        "    countPrev = 0\n",
        "    mylist = []\n",
        "    for i in range(500):\n",
        "      vpp = np.sum(gray[:,i] < 250)\n",
        "      if vpp > 12:\n",
        "        if start:\n",
        "          # print(i)\n",
        "          temp = i\n",
        "          start = False\n",
        "        countPrev += 1\n",
        "      if vpp == 0:\n",
        "        if start == False:\n",
        "          # print(i)\n",
        "          if countPrev > 30:\n",
        "            sizediff = i-temp\n",
        "            if (sizediff < 150):\n",
        "              x_temp = temp - int((150 - sizediff)/2)\n",
        "              x = x_temp if x_temp > 0 else 0\n",
        "              x = x if x + 150 < 500 else 350\n",
        "              y = 0\n",
        "            else:\n",
        "              x = i\n",
        "              y = 0\n",
        "            mylist.append((x , y, 150, 150))\n",
        "            countPrev = 0\n",
        "          start = True    \n",
        "    listSize = len(mylist)\n",
        "    if listSize != 3 :\n",
        "      mylist = [(15 , 0 , 150, 150),(175, 0, 150, 150),(335, 0, 150, 150)]\n",
        "      # print(mylist)\n",
        "      # print(imageFile)\n",
        "      # print(listSize)\n",
        "      # print(mylist)\n",
        "      # print(vpp)\n",
        "      # return \"failed\"\n",
        "\n",
        "    # Got the segment of the image\n",
        "    labelList = ytest[imageIndex].split(\",\")\n",
        "    numberLabel = []\n",
        "    for labb in labelList:\n",
        "      numberLabel.append(labelTonum[labb])\n",
        "    for boxIndex in range(3):\n",
        "      x, y = mylist[boxIndex][0], mylist[boxIndex][1]\n",
        "      finalImage = gray[y:y + 150, x:x + 150]\n",
        "      finalImage = cv2.resize(finalImage, (30, 30))\n",
        "      finalImage = finalImage.flatten()\n",
        "      dfXtest.append(finalImage)\n",
        "      # get the labels\n",
        "      dfytest.append(numberLabel[boxIndex])\n",
        "  return \"success\"\n",
        "\n",
        "dfXtest = []\n",
        "dfytest = []\n",
        "print(predictTest())"
      ]
    },
    {
      "cell_type": "code",
      "execution_count": null,
      "metadata": {
        "colab": {
          "base_uri": "https://localhost:8080/"
        },
        "id": "rm7WmZ8sZuxa",
        "outputId": "d77399f0-a356-48a8-a805-49e80845eb08"
      },
      "outputs": [
        {
          "data": {
            "text/plain": [
              "1200"
            ]
          },
          "execution_count": 147,
          "metadata": {},
          "output_type": "execute_result"
        }
      ],
      "source": [
        "len(dfXtest)"
      ]
    },
    {
      "cell_type": "code",
      "execution_count": null,
      "metadata": {
        "colab": {
          "base_uri": "https://localhost:8080/"
        },
        "id": "AjeIBQ3aZuuy",
        "outputId": "a936624c-51aa-48f0-a56f-640495b5f587"
      },
      "outputs": [
        {
          "name": "stdout",
          "output_type": "stream",
          "text": [
            "97.08333333333333\n"
          ]
        }
      ],
      "source": [
        "svm_predictions = svm_model_linear.predict(dfXtest)\n",
        "count = 0\n",
        "for i in range(len(svm_predictions)):\n",
        "    if svm_predictions[i] == dfytest[i]:\n",
        "        count += 1\n",
        "print(count/(i+1)*100)"
      ]
    },
    {
      "cell_type": "code",
      "execution_count": null,
      "metadata": {
        "id": "Tot2vMpdYjXp"
      },
      "outputs": [],
      "source": [
        "# So the final accuracy on the test data that was achieved was 97.08%"
      ]
    },
    {
      "attachments": {},
      "cell_type": "markdown",
      "metadata": {
        "id": "ISLzbA9x5DT7"
      },
      "source": [
        "## Below are some test processing that I used for the project."
      ]
    },
    {
      "cell_type": "code",
      "execution_count": null,
      "metadata": {
        "colab": {
          "base_uri": "https://localhost:8080/",
          "height": 167
        },
        "id": "JGhpjYWpcTlM",
        "outputId": "37c9ae16-963b-4eea-9719-392771911150"
      },
      "outputs": [
        {
          "data": {
            "image/png": "[encoded data removed]",
            "text/plain": [
              "<PIL.Image.Image image mode=RGB size=500x150 at 0x7F474D536A50>"
            ]
          },
          "metadata": {},
          "output_type": "display_data"
        }
      ],
      "source": [
        "img1 = cv2.imread(os.path.join(path, Xtrain[1002]))\n",
        "cv2_imshow(img1)"
      ]
    },
    {
      "cell_type": "code",
      "execution_count": null,
      "metadata": {
        "colab": {
          "base_uri": "https://localhost:8080/"
        },
        "id": "I6r7LY7c2SLP",
        "outputId": "2f15b076-8a59-4dd2-d3b2-522b5d9e4376"
      },
      "outputs": [
        {
          "name": "stdout",
          "output_type": "stream",
          "text": [
            "64.6 ms ± 2.74 ms per loop (mean ± std. dev. of 7 runs, 1 loop each)\n"
          ]
        }
      ],
      "source": [
        "%%timeit\n",
        "for i in range(y_dim):\n",
        "  for j in range(x_dim):\n",
        "    if all(img1[i][j]==img_temp):\n",
        "      img1[i][j] = np.array([255,255,255],dtype=np.uint8)"
      ]
    },
    {
      "cell_type": "code",
      "execution_count": null,
      "metadata": {
        "colab": {
          "base_uri": "https://localhost:8080/",
          "height": 167
        },
        "id": "T7d3XZtZYygI",
        "outputId": "b39269be-8e82-42de-d402-fe661c1aa2db"
      },
      "outputs": [
        {
          "data": {
            "image/png": "[encoded data removed]",
            "text/plain": [
              "<PIL.Image.Image image mode=RGB size=500x150 at 0x7F474D558050>"
            ]
          },
          "metadata": {},
          "output_type": "display_data"
        }
      ],
      "source": [
        "# %%timeit \n",
        "# img = img1.copy()\n",
        "background = np.where((img1[:,:,0]==backgnd[0]) & (img1[:,:,1]==backgnd[1]) & (img1[:,:,2]==backgnd[2]))\n",
        "img1[background] = np.array([255,255,255], dtype= np.uint8)\n",
        "cv2_imshow(img1)"
      ]
    },
    {
      "cell_type": "code",
      "execution_count": null,
      "metadata": {
        "colab": {
          "base_uri": "https://localhost:8080/"
        },
        "id": "gfVa_lKwZ9Cb",
        "outputId": "0c9862da-a90f-4f20-b8f7-b257b259134f"
      },
      "outputs": [
        {
          "data": {
            "text/plain": [
              "(array([], dtype=int64), array([], dtype=int64))"
            ]
          },
          "execution_count": 17,
          "metadata": {},
          "output_type": "execute_result"
        }
      ],
      "source": [
        "black"
      ]
    },
    {
      "cell_type": "code",
      "execution_count": null,
      "metadata": {
        "colab": {
          "base_uri": "https://localhost:8080/",
          "height": 167
        },
        "id": "sNRbPV1SrOFi",
        "outputId": "e04441b3-a923-45ce-f6ef-15b928e8e904"
      },
      "outputs": [
        {
          "data": {
            "image/png": "[encoded data removed]",
            "text/plain": [
              "<PIL.Image.Image image mode=RGB size=500x150 at 0x7F474D5582D0>"
            ]
          },
          "metadata": {},
          "output_type": "display_data"
        }
      ],
      "source": [
        "from google.colab.patches import cv2_imshow\n",
        "cv2_imshow(img1)"
      ]
    },
    {
      "cell_type": "code",
      "execution_count": null,
      "metadata": {
        "id": "7G-1xijy3wdG"
      },
      "outputs": [],
      "source": [
        "kernel = np.ones((5, 5), np.uint8)\n",
        "img_erosion = cv2.erode(img1, kernel, iterations=1)\n",
        "img_dilation = cv2.dilate(img1, kernel, iterations=1)"
      ]
    },
    {
      "cell_type": "code",
      "execution_count": null,
      "metadata": {
        "colab": {
          "base_uri": "https://localhost:8080/",
          "height": 317
        },
        "id": "2MB750jo4ATt",
        "outputId": "c402372d-fbfa-4277-d3da-59a2b090f828"
      },
      "outputs": [
        {
          "data": {
            "image/png": "[encoded data removed]",
            "text/plain": [
              "<PIL.Image.Image image mode=RGB size=500x150 at 0x7F474D521490>"
            ]
          },
          "metadata": {},
          "output_type": "display_data"
        },
        {
          "data": {
            "image/png": "[encoded data removed]",
            "text/plain": [
              "<PIL.Image.Image image mode=RGB size=500x150 at 0x7F474D5218D0>"
            ]
          },
          "metadata": {},
          "output_type": "display_data"
        }
      ],
      "source": [
        "from google.colab.patches import cv2_imshow\n",
        "# cv2_imshow(img_erosion)\n",
        "cv2_imshow(img_dilation)\n",
        "# cv2.imwrite(\"/content/drive/MyDrive/CS771ML/myimage.jpg\", img_dilation)"
      ]
    },
    {
      "cell_type": "code",
      "execution_count": null,
      "metadata": {
        "colab": {
          "base_uri": "https://localhost:8080/",
          "height": 167
        },
        "id": "bWIfPA3RewCu",
        "outputId": "09392ec7-8411-434c-d66d-36a0235fdf43"
      },
      "outputs": [
        {
          "data": {
            "image/png": "[encoded data removed]",
            "text/plain": [
              "<PIL.Image.Image image mode=L size=500x150 at 0x7F474D6E2A90>"
            ]
          },
          "metadata": {},
          "output_type": "display_data"
        }
      ],
      "source": [
        "gray = cv2.cvtColor(img_dilation, cv2.COLOR_BGR2GRAY)\n",
        "cv2_imshow(gray)"
      ]
    },
    {
      "cell_type": "code",
      "execution_count": null,
      "metadata": {
        "colab": {
          "base_uri": "https://localhost:8080/",
          "height": 467
        },
        "id": "a5IPjoSkPNG0",
        "outputId": "457b4b6b-a7f3-48d5-dfc7-f7b1187b4934"
      },
      "outputs": [
        {
          "data": {
            "image/png": "[encoded data removed]",
            "text/plain": [
              "<PIL.Image.Image image mode=L size=150x150 at 0x7F474D5287D0>"
            ]
          },
          "metadata": {},
          "output_type": "display_data"
        },
        {
          "data": {
            "image/png": "[encoded data removed]",
            "text/plain": [
              "<PIL.Image.Image image mode=L size=150x150 at 0x7F474D528150>"
            ]
          },
          "metadata": {},
          "output_type": "display_data"
        },
        {
          "data": {
            "image/png": "[encoded data removed]",
            "text/plain": [
              "<PIL.Image.Image image mode=L size=150x150 at 0x7F474D81C1D0>"
            ]
          },
          "metadata": {},
          "output_type": "display_data"
        }
      ],
      "source": [
        "start = True\n",
        "countPrev = 0\n",
        "mylist = []\n",
        "for i in range(500):\n",
        "  vpp = np.sum(gray[:,i] < 250)\n",
        "  if vpp > 12:\n",
        "    if start:\n",
        "      # print(i)\n",
        "      temp = i\n",
        "      start = False\n",
        "    countPrev += 1\n",
        "  if vpp == 0:\n",
        "    if start == False:\n",
        "      # print(i)\n",
        "      if countPrev > 30:\n",
        "        sizediff = i-temp\n",
        "        if (sizediff < 150):\n",
        "          x_temp = temp - int((150 - sizediff)/2)\n",
        "          x = x_temp if x_temp > 0 else 0\n",
        "          x = x if x + 150 < 500 else 350\n",
        "          y = 0\n",
        "        else:\n",
        "          x = i\n",
        "          y = 0\n",
        "        mylist.append((x , y, 150, 150))\n",
        "        countPrev = 0\n",
        "      start = True    \n",
        "listSize = len(mylist)\n",
        "if listSize != 3 :\n",
        "  mylist = [(15 , 0 , 150, 150),(175, 0, 150, 150),(335, 0, 150, 150)]\n",
        "\n",
        "for boxx in range(3): \n",
        "  x, y = mylist[boxx][0], mylist[boxx][1]\n",
        "  finalImage = gray[y:y + 150, x:x + 150]\n",
        "  # finalImage = cv2.resize(finalImage, (30, 30))\n",
        "  cv2_imshow(finalImage)\n",
        "# finalImage = finalImage.flatten()\n",
        "# dfXtest.append(finalImage)\n",
        "# get the labels"
      ]
    },
    {
      "cell_type": "code",
      "execution_count": null,
      "metadata": {
        "colab": {
          "base_uri": "https://localhost:8080/"
        },
        "id": "NJJ0zK-uIFT6",
        "outputId": "d2395d32-2792-491e-8072-797fd4610d92"
      },
      "outputs": [
        {
          "data": {
            "text/plain": [
              "3"
            ]
          },
          "execution_count": 44,
          "metadata": {},
          "output_type": "execute_result"
        }
      ],
      "source": [
        "np.sum(gray[:,55] < 250)"
      ]
    },
    {
      "cell_type": "code",
      "execution_count": null,
      "metadata": {
        "id": "fsCHS4z2IFQ4"
      },
      "outputs": [],
      "source": [
        "gray[:,0] = 0\n",
        "gray[:,12] = 0"
      ]
    },
    {
      "cell_type": "code",
      "execution_count": null,
      "metadata": {
        "colab": {
          "base_uri": "https://localhost:8080/",
          "height": 167
        },
        "id": "SgGE4Ec8LPMM",
        "outputId": "5a78eb79-5530-48a7-dad0-ed1186ebc30d"
      },
      "outputs": [
        {
          "data": {
            "image/png": "[encoded data removed]",
            "text/plain": [
              "<PIL.Image.Image image mode=L size=500x150 at 0x7F9ACEBE75D0>"
            ]
          },
          "metadata": {},
          "output_type": "display_data"
        }
      ],
      "source": [
        "cv2_imshow(gray)"
      ]
    },
    {
      "cell_type": "code",
      "execution_count": null,
      "metadata": {
        "colab": {
          "base_uri": "https://localhost:8080/"
        },
        "id": "TrlU_CcruWfC",
        "outputId": "ad62056b-78ea-41fe-b593-67bd79b52e7b"
      },
      "outputs": [
        {
          "data": {
            "text/plain": [
              "[(61, 152), (240, 330), (378, 466)]"
            ]
          },
          "execution_count": 107,
          "metadata": {},
          "output_type": "execute_result"
        }
      ],
      "source": [
        "start = True\n",
        "countPrev = 0\n",
        "mylist = []\n",
        "for i in range(500):\n",
        "  vpp = np.sum(gray[:,i] < 250)\n",
        "  if vpp > 10:\n",
        "    if start:\n",
        "      # print(i)\n",
        "      temp = i\n",
        "      start = False\n",
        "    countPrev += 1\n",
        "    \n",
        "  if vpp == 0:\n",
        "    if start == False:\n",
        "      # print(i)\n",
        "      if countPrev > 40:\n",
        "        mylist.append((temp,i))\n",
        "        countPrev = 0\n",
        "      start = True\n",
        "  \n",
        "mylist"
      ]
    },
    {
      "cell_type": "code",
      "execution_count": null,
      "metadata": {
        "colab": {
          "base_uri": "https://localhost:8080/"
        },
        "id": "Lrzr---pgI0F",
        "outputId": "cdd31997-f1b7-494c-c3b1-6cae76a71a39"
      },
      "outputs": [
        {
          "data": {
            "text/plain": [
              "350"
            ]
          },
          "execution_count": 57,
          "metadata": {},
          "output_type": "execute_result"
        }
      ],
      "source": [
        "start = 420\n",
        "sizediff = 60\n",
        "x_temp = start - int((150 - sizediff )/2) \n",
        "x = x_temp if x_temp > 0 else 0\n",
        "x = x if x + 150 < 500 else 350\n",
        "x"
      ]
    },
    {
      "cell_type": "code",
      "execution_count": null,
      "metadata": {
        "colab": {
          "base_uri": "https://localhost:8080/"
        },
        "id": "C4Yvn4a8z8Uz",
        "outputId": "81bf3062-80a0-4926-f723-d181596443fa"
      },
      "outputs": [
        {
          "name": "stdout",
          "output_type": "stream",
          "text": [
            "3.61 ms ± 96.6 µs per loop (mean ± std. dev. of 7 runs, 100 loops each)\n"
          ]
        }
      ],
      "source": [
        "%%timeit\n",
        "\n",
        "def getsegment(start, end):\n",
        "  sizediff = end-start\n",
        "  if (sizediff < 150):\n",
        "    x_temp = start - int((150 - sizediff)/2)\n",
        "    x = x_temp if x_temp > 0 else 0\n",
        "    x = x if x + 150 < 500 else 350\n",
        "    y = 0\n",
        "  return x, y, 150, 150\n",
        "\n",
        "start = True\n",
        "countPrev = 0\n",
        "mylist = []\n",
        "for i in range(500):\n",
        "  vpp = np.sum(gray[:,i] < 250)\n",
        "  if vpp > 12:\n",
        "    if start:\n",
        "      # print(i)\n",
        "      temp = i\n",
        "      start = False\n",
        "    countPrev += 1\n",
        "  if vpp == 0:\n",
        "    if start == False:\n",
        "      # print(i)\n",
        "      if countPrev > 30:\n",
        "        x , y, h, w = getsegment(temp, i)\n",
        "        mylist.append((x,y,h,w))\n",
        "        countPrev = 0\n",
        "      start = True    \n",
        "listSize = len(mylist)\n",
        "if listSize != 3 :\n",
        "  letter_image_regions = [(15 , 0 , 150, 150),(175, 0, 150, 150),(335, 0, 150, 150)]\n",
        "# print(mylist)"
      ]
    },
    {
      "cell_type": "code",
      "execution_count": null,
      "metadata": {
        "id": "3RlxQT_ILzKh"
      },
      "outputs": [],
      "source": []
    },
    {
      "cell_type": "code",
      "execution_count": null,
      "metadata": {
        "id": "yl9etN1fLzIN"
      },
      "outputs": [],
      "source": []
    },
    {
      "cell_type": "code",
      "execution_count": null,
      "metadata": {
        "colab": {
          "base_uri": "https://localhost:8080/",
          "height": 467
        },
        "id": "n8VYwQRyv4M9",
        "outputId": "9a50f4d0-d146-4213-c5c5-2043c6796d4d"
      },
      "outputs": [
        {
          "data": {
            "image/png": "[encoded data removed]",
            "text/plain": [
              "<PIL.Image.Image image mode=L size=150x150 at 0x7FBA7D335090>"
            ]
          },
          "metadata": {},
          "output_type": "display_data"
        },
        {
          "data": {
            "image/png": "[encoded data removed]",
            "text/plain": [
              "<PIL.Image.Image image mode=L size=150x150 at 0x7FBA7D335390>"
            ]
          },
          "metadata": {},
          "output_type": "display_data"
        },
        {
          "data": {
            "image/png": "[encoded data removed]",
            "text/plain": [
              "<PIL.Image.Image image mode=L size=150x150 at 0x7FBA7D335590>"
            ]
          },
          "metadata": {},
          "output_type": "display_data"
        }
      ],
      "source": [
        "# Dividing the image in 3\n",
        "\n",
        "letter_image_regions = [(15 , 0 , 150, 150),(175, 0, 150, 150),(335, 0, 150, 150)]\n",
        "for letter_bounding_box in letter_image_regions:\n",
        "  x, y, w, h = letter_bounding_box\n",
        "  letter_image = gray[y:y + h, x:x + w]\n",
        "  cv2_imshow(letter_image)\n",
        "  # p = os.path.join('/content', letter_text+\".png\")\n",
        "  # cv2.imwrite(p, letter_image)"
      ]
    },
    {
      "cell_type": "code",
      "execution_count": null,
      "metadata": {
        "id": "2Q9vIwvWZBur"
      },
      "outputs": [],
      "source": [
        "ret3, th3 = cv2.threshold(gray,0,255,cv2.THRESH_BINARY+cv2.THRESH_OTSU)\n",
        "inverted = cv2.bitwise_not(th3)\n",
        "vpp = np.sum(inverted, axis=0)"
      ]
    },
    {
      "cell_type": "code",
      "execution_count": null,
      "metadata": {
        "colab": {
          "base_uri": "https://localhost:8080/"
        },
        "id": "eCZYyE4PaZvt",
        "outputId": "58887771-f2dc-4621-f2da-5b7257418056"
      },
      "outputs": [
        {
          "data": {
            "text/plain": [
              "array([    0,     0,     0,     0,     0,     0,     0,     0,     0,\n",
              "           0,     0,     0,     0,     0,     0,     0,     0,     0,\n",
              "           0,     0,     0,     0,     0,     0,     0,     0,     0,\n",
              "           0,     0,     0,     0,     0,     0,     0,     0,     0,\n",
              "           0,     0,     0,     0,     0,     0,     0,     0,     0,\n",
              "           0,     0,     0,     0,     0,     0,     0,     0,     0,\n",
              "           0,   255,  1020,  1530,  2550,  3060,  3570,  4335,  4845,\n",
              "        5355,  5610,  6120,  6375,  6375,  6630,  6630,  6630,  6375,\n",
              "        6630,  6630,  6630,  6630,  6630,  6630,  6630,  6885,  8160,\n",
              "        9435, 11220, 11985, 13515, 15045, 16320, 18105, 19380, 21165,\n",
              "       22440, 22695, 22950, 22695, 22950, 22695, 22695, 22695, 22695,\n",
              "       22950, 22695, 22950, 22695, 22695, 22950, 22695, 22950, 22695,\n",
              "       22950, 22695, 22950, 22950, 20910, 19635, 18105, 16830, 15300,\n",
              "       14280, 12750, 11475,  9945,  8670,  6630,  6630,  6630,  6630,\n",
              "        6630,  6630,  6630,  6375,  6630,  6630,  6630,  6630,  6630,\n",
              "        6630,  6375,  6630,  6630,  6630,  6630,  6375,  6120,  5865,\n",
              "        5610,  4335,  3825,  3570,  3315,  2040,  1020,   765,     0,\n",
              "           0,     0,     0,     0,     0,     0,     0,     0,     0,\n",
              "           0,     0,     0,     0,     0,     0,     0,     0,     0,\n",
              "           0,     0,     0,     0,     0,     0,     0,     0,     0,\n",
              "           0,     0,     0,     0,     0,     0,     0,     0,     0,\n",
              "           0,     0,     0,     0,   255,   255,   255,   255,   255,\n",
              "         255,     0,     0,     0,     0,     0,     0,     0,     0,\n",
              "           0,     0,     0,     0,     0,     0,     0,     0,     0,\n",
              "           0,     0,     0,     0,     0,     0,     0,     0,     0,\n",
              "           0,     0,     0,     0,     0,     0,     0,     0,     0,\n",
              "           0,   510,     0,     0,   510,   510,   255,   510,   510,\n",
              "         510,  1020,  1785,   765,  1020,  1020,  1275,  1275,  1530,\n",
              "        1275,  1020,  1785,  1530,  1530,  2295,  1785,  2040,  2550,\n",
              "        1020,   510,   255,   510,   255,   510,   255,   765,   765,\n",
              "         765,   510,     0,   510,  1275,  1785,  2040,  1785,  2550,\n",
              "        1530,  1530,  1530,  1275,   510,   765,     0,   255,   765,\n",
              "         510,   255,   765,   255,   255,   255,   255,   510,  1020,\n",
              "        2040,  1275,  1275,  1530,  1785,  1530,  1275,  2295,  1020,\n",
              "        1275,  1275,  1530,  1275,  1785,   255,   255,   765,   765,\n",
              "         510,   510,   510,   255,   510,   510,   765,     0,     0,\n",
              "        1275,   765,     0,     0,     0,     0,     0,     0,     0,\n",
              "           0,     0,     0,     0,     0,     0,     0,     0,     0,\n",
              "           0,     0,     0,     0,     0,     0,     0,     0,     0,\n",
              "           0,     0,     0,     0,     0,     0,     0,     0,     0,\n",
              "           0,     0,     0,     0,     0,     0,     0,     0,     0,\n",
              "           0,     0,     0,     0,     0,     0,     0,     0,     0,\n",
              "           0,     0,     0,  2550,  3825,  4845,  5610,  5865,  5865,\n",
              "        6120,  6120,  6375,  6120,  6120,  8415, 10710, 10710, 13260,\n",
              "       15045, 15555, 16575, 17085, 17340, 17340, 17085, 17085, 17340,\n",
              "       17340, 17340, 17340, 17085, 16830, 17340, 17340, 17340, 17085,\n",
              "       17085, 17340, 17340, 17340, 17340, 17085, 17085, 17340, 17340,\n",
              "       17340, 17340, 17085, 16830, 17340, 17340, 17340, 17085, 17085,\n",
              "       17340, 17340, 17340, 17340, 17085, 17085, 17340, 17085, 17085,\n",
              "       16065, 15300, 13515, 11475, 10710,  9180,  7650,  5355,  5355,\n",
              "        5355,  5355,  5100,  4335,  4080,  2805,  1020,     0,     0,\n",
              "           0,     0,     0,     0,     0,     0,     0,     0,     0,\n",
              "           0,     0,     0,     0,     0,     0,     0,     0,     0,\n",
              "           0,     0,     0,     0,     0,     0,     0,     0,     0,\n",
              "           0,     0,     0,     0,     0,     0,     0,     0,     0,\n",
              "           0,     0,     0,     0,     0], dtype=uint64)"
            ]
          },
          "execution_count": 90,
          "metadata": {},
          "output_type": "execute_result"
        }
      ],
      "source": [
        "vpp"
      ]
    },
    {
      "cell_type": "code",
      "execution_count": null,
      "metadata": {
        "colab": {
          "base_uri": "https://localhost:8080/"
        },
        "id": "0419IsZlESUJ",
        "outputId": "d04801c4-d7a2-4d6b-c18d-ac3386086fbb"
      },
      "outputs": [
        {
          "data": {
            "text/plain": [
              "[(80, 190), (237, 311), (378, 419)]"
            ]
          },
          "execution_count": 68,
          "metadata": {},
          "output_type": "execute_result"
        }
      ],
      "source": [
        "start = True\n",
        "countPrev = 0\n",
        "mylist = []\n",
        "for i in range(len(vpp)):\n",
        "  if vpp[i] > 10:\n",
        "    if start:\n",
        "      # print(i)\n",
        "      temp = i\n",
        "      start = False\n",
        "    countPrev += 1\n",
        "    \n",
        "  if vpp[i] == 0:\n",
        "    if start == False:\n",
        "      # print(i)\n",
        "      if countPrev > 40:\n",
        "        mylist.append((temp,i))\n",
        "        countPrev = 0\n",
        "      start = True\n",
        "  \n",
        "mylist"
      ]
    },
    {
      "cell_type": "code",
      "execution_count": null,
      "metadata": {
        "colab": {
          "base_uri": "https://localhost:8080/"
        },
        "id": "a5zMd2B9aZta",
        "outputId": "575cfb4d-ef01-4873-ee26-d324f6784b54"
      },
      "outputs": [
        {
          "data": {
            "text/plain": [
              "[(80, 190), (237, 311), (378, 419)]"
            ]
          },
          "execution_count": 51,
          "metadata": {},
          "output_type": "execute_result"
        }
      ],
      "source": [
        "start = True\n",
        "mylist = []\n",
        "for i in range(len(vpp)):\n",
        "  if vpp[i] > 10 and start:\n",
        "    # print(i)\n",
        "    temp = i\n",
        "    start = False\n",
        "  if vpp[i] == 0 and start == False:\n",
        "    # print(i)\n",
        "    mylist.append((temp,i))\n",
        "    start = True\n",
        "mylist"
      ]
    },
    {
      "cell_type": "code",
      "execution_count": null,
      "metadata": {
        "colab": {
          "base_uri": "https://localhost:8080/",
          "height": 167
        },
        "id": "ZahMwN31_3B_",
        "outputId": "8663012e-47b6-43bb-beee-bb1381adb406"
      },
      "outputs": [
        {
          "data": {
            "image/png": "[encoded data removed]",
            "text/plain": [
              "<PIL.Image.Image image mode=L size=150x150 at 0x7FBA7D149750>"
            ]
          },
          "metadata": {},
          "output_type": "display_data"
        }
      ],
      "source": [
        "letter_image_regions = [(70 , 0 , 150, 150),(204, 0, 150, 150),(335, 0, 150, 150)]\n",
        "x, y, w, h = letter_image_regions[1]\n",
        "letter_image = gray[y:y + h, x:x + w]\n",
        "cv2_imshow(letter_image)"
      ]
    },
    {
      "cell_type": "code",
      "execution_count": null,
      "metadata": {
        "colab": {
          "base_uri": "https://localhost:8080/",
          "height": 167
        },
        "id": "7EuNlw-Z3iXp",
        "outputId": "24d94a63-30cd-4776-8e7c-98e631ebb1ce"
      },
      "outputs": [
        {
          "data": {
            "image/png": "[encoded data removed]",
            "text/plain": [
              "<PIL.Image.Image image mode=L size=500x150 at 0x7FB09D3E0610>"
            ]
          },
          "metadata": {},
          "output_type": "display_data"
        }
      ],
      "source": [
        "segment = gray.copy()\n",
        "segment[segments!=index] = 255\n",
        "cv2_imshow(segment)"
      ]
    },
    {
      "cell_type": "code",
      "execution_count": null,
      "metadata": {
        "id": "ZXOQubo1XABz"
      },
      "outputs": [],
      "source": []
    }
  ],
  "metadata": {
    "colab": {
      "provenance": [],
      "toc_visible": true
    },
    "kernelspec": {
      "display_name": "Python 3",
      "name": "python3"
    },
    "language_info": {
      "name": "python"
    }
  },
  "nbformat": 4,
  "nbformat_minor": 0
}
